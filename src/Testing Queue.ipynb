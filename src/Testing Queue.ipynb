{
 "cells": [
  {
   "cell_type": "code",
   "execution_count": 9,
   "metadata": {},
   "outputs": [
    {
     "name": "stdout",
     "output_type": "stream",
     "text": [
      "test pass\n"
     ]
    }
   ],
   "source": [
    "# CORRECT SPECIFICATION:\n",
    "#\n",
    "# the Queue class provides a fized-size FIFO queue of integers\n",
    "#\n",
    "# the constructor takes a single parameter: an integer >0 that\n",
    "# is the maximum number of elements the queue can hold\n",
    "#\n",
    "# empty() returns True iff the queue holds no elements\n",
    "#\n",
    "# full() returns True iff the queue cannot hold any more elements\n",
    "#\n",
    "# enqueue(i) attempts to put the integer i into the queue; it returns\n",
    "# True if successful and False if the queue is full\n",
    "#\n",
    "# dequeue() removes an integer from the queue and returns it,\n",
    "# or else returns None if the queue is empty\n",
    "\n",
    "import array\n",
    "\n",
    "class Queue:\n",
    "    def __init__(self,size_max):\n",
    "        assert size_max > 0\n",
    "        self.max = size_max\n",
    "        self.head = 0\n",
    "        self.tail = 0\n",
    "        self.size = 0\n",
    "        self.data = array.array('i', range(size_max))\n",
    "\n",
    "    def empty(self):\n",
    "        return self.size == 0\n",
    "\n",
    "    def full(self):\n",
    "        return self.size == self.max\n",
    "\n",
    "    def enqueue(self,x):\n",
    "        if self.size == self.max:\n",
    "            return False\n",
    "        self.data[self.tail] = x\n",
    "        self.size += 1\n",
    "        self.tail += 1\n",
    "        if self.tail == self.max:\n",
    "            self.tail = 0\n",
    "        return True\n",
    "\n",
    "    def dequeue(self):\n",
    "        if self.size == 0:\n",
    "            return None\n",
    "        x = self.data[self.head]\n",
    "        self.size -= 1\n",
    "        self.head += 1\n",
    "        if self.head == self.max:\n",
    "            self.head = 0\n",
    "        return x\n",
    "\n",
    "def test():\n",
    "    # To catch all bugs we need to test the logic of all methods and\n",
    "    # cover the input domain as much as possible, i.e. test for large array sizes and\n",
    "    # for large inputs (integers) positive and negative\n",
    "    q = Queue(2)\n",
    "    assert q.empty() and (not q.full())\n",
    "    assert q.dequeue() is None\n",
    "    assert q.empty() and (not q.full())\n",
    "    assert q.enqueue(10*10)\n",
    "    assert not q.empty() and (not q.full())\n",
    "    assert q.dequeue() == 10*10\n",
    "    assert q.empty() and (not q.full())\n",
    "    assert q.dequeue() is None\n",
    "    assert q.enqueue(10*10)\n",
    "    assert q.enqueue(-10*10)\n",
    "    assert not q.enqueue(0)\n",
    "    assert not q.empty() and q.full()\n",
    "    assert q.dequeue() == 10*10\n",
    "    assert not q.empty() and (not q.full())\n",
    "    assert q.enqueue(0)\n",
    "    assert not q.empty() and q.full()\n",
    "    assert q.dequeue() == -10*10\n",
    "    assert not q.empty() and (not q.full())\n",
    "    assert q.enqueue(1)\n",
    "    assert q.dequeue() == 0\n",
    "    assert q.dequeue() == 1\n",
    "    assert q.empty() and (not q.full())\n",
    "    assert q.dequeue() is None\n",
    "    assert q.enqueue(0)\n",
    "    q = Queue(10*5)\n",
    "    for i in range(10*5):\n",
    "        assert q.enqueue(i)\n",
    "    return 'test pass'\n",
    "\n",
    "print test()"
   ]
  },
  {
   "cell_type": "code",
   "execution_count": null,
   "metadata": {
    "collapsed": true
   },
   "outputs": [],
   "source": []
  }
 ],
 "metadata": {
  "kernelspec": {
   "display_name": "Python 2",
   "language": "python",
   "name": "python2"
  },
  "language_info": {
   "codemirror_mode": {
    "name": "ipython",
    "version": 2
   },
   "file_extension": ".py",
   "mimetype": "text/x-python",
   "name": "python",
   "nbconvert_exporter": "python",
   "pygments_lexer": "ipython2",
   "version": "2.7.13"
  }
 },
 "nbformat": 4,
 "nbformat_minor": 2
}
