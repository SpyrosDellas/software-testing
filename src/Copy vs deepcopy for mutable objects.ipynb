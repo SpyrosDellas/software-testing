{
 "cells": [
  {
   "cell_type": "code",
   "execution_count": 10,
   "metadata": {},
   "outputs": [
    {
     "name": "stdout",
     "output_type": "stream",
     "text": [
      "[0, 1, 2, 3] ['start', 1, 2, 3]\n",
      "[[0], 5, 6] [['start', 1, 2, 3], 5, 6]\n",
      "[['start', 50, 2, 3], 5, 6] [['start', 50, 2, 3], 5, 6]\n",
      "[set([0, 100]), set([2, 3]), set([5, 6]), set([8, 7])] [set([0, 100]), set([2, 3]), set([5, 6]), set([8, 7])]\n",
      "[set([0, 100]), set([2, 3]), set([5, 6]), set([8, 7])] [set([0]), set([2, 3]), set([5, 6]), set([8, 7])]\n",
      "[frozenset([1, 2, 10]), 5, 6] [frozenset([1, 2, 10]), 5, 6]\n",
      "['abc', 5, 6] ['abcd', 5, 6]\n"
     ]
    }
   ],
   "source": [
    "\"\"\"Assignment statements in Python do not copy objects, they create bindings \n",
    "between a target and an object. For collections that are mutable or contain mutable items, \n",
    "a copy is sometimes needed so one can change the copy without changing the original object. \n",
    "\"\"\"\n",
    "\n",
    "import copy\n",
    "\n",
    "example1 = [\"start\", 1, 2, 3]\n",
    "example2 = [example1, 5, 6]\n",
    "example3 = [{0}, {2, 3}, {5, 6}, {7, 8}]\n",
    "example4 = [{0}, {2, 3}, {5, 6}, {7, 8}]\n",
    "\n",
    "def test1(example):\n",
    "    dummy = example[:]\n",
    "    dummy[0] = 0\n",
    "    return dummy\n",
    "\n",
    "def test2(example):\n",
    "    dummy = example[:]\n",
    "    dummy[0] = [0]\n",
    "    return dummy\n",
    "\n",
    "def test3(example):\n",
    "    dummy = example[:]\n",
    "    dummy[0][1] = 50\n",
    "    return dummy\n",
    "\n",
    "def test4(example):\n",
    "    dummy = example[:]\n",
    "    dummy[0].add(100) \n",
    "    return dummy\n",
    "\n",
    "def test5(example):\n",
    "    dummy = copy.deepcopy(example)\n",
    "    dummy[0].add(100) \n",
    "    return dummy                          \n",
    "                          \n",
    "# Here example1 is a non-compound list, containing immutable objects, so slice copy works perfect\n",
    "print test1(example1), example1\n",
    "# Here example2 is a compound list, since it contains another mutable object (a list).\n",
    "# Slice copy will only work to the extend that the whole mutable object is replaced.\n",
    "print test2(example2), example2\n",
    "# Since both the original list and the slice copy refer to the same mutable object, changing the object\n",
    "# affects both lists\n",
    "print test3(example2), example2\n",
    "print test4(example3), example3\n",
    "# To create a deep copy of the original list we have to use the 'copy' module\n",
    "print test5(example4), example4\n",
    "\n",
    "\n",
    "a = [frozenset([1, 2]), 5, 6]\n",
    "b = a\n",
    "b[0] = b[0].union(frozenset([10]))\n",
    "print a, b\n",
    "\n",
    "a = ['abc', 5, 6]\n",
    "b = a[:]\n",
    "b[0] = b[0] + 'd'\n",
    "print a, b"
   ]
  },
  {
   "cell_type": "code",
   "execution_count": null,
   "metadata": {
    "collapsed": true
   },
   "outputs": [],
   "source": []
  }
 ],
 "metadata": {
  "kernelspec": {
   "display_name": "Python 2",
   "language": "python",
   "name": "python2"
  },
  "language_info": {
   "codemirror_mode": {
    "name": "ipython",
    "version": 2
   },
   "file_extension": ".py",
   "mimetype": "text/x-python",
   "name": "python",
   "nbconvert_exporter": "python",
   "pygments_lexer": "ipython2",
   "version": "2.7.13"
  }
 },
 "nbformat": 4,
 "nbformat_minor": 2
}
