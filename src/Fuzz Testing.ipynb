{
 "cells": [
  {
   "cell_type": "code",
   "execution_count": 6,
   "metadata": {},
   "outputs": [
    {
     "name": "stdout",
     "output_type": "stream",
     "text": [
      "\n",
      "�orem i�sum dolor rit �met, consectetu� adi�iscing elit.\n",
      "Phasel�u��sollic��udin c�ndime�tum �\u0002berE,\n",
      "+�t a=et ultraces lacu� fauc�bus ne�.\n",
      "Lorem i��um �olor sit amet, consectetur a�ipisciQg elit.\n",
      "Cum ֛ciis natoEue\u0003penati�us et magnis dis paBturient montes,\n",
      ":�scetur ridiculus mus\u0013 \u001d",
      "ra\u0019 nulla nisl, accumsan gravida com�odo ez,\n",
      "zen��atis dignissim\u0013quam. Mauris �ut\u0010um ullamcorper consecte�ur.\n",
      "Nunc lucmus d\u001bi eu libero fring�lla temp�r. I�teger vit�e�libero purus.\n",
      "Fusce e�t dui, suscipht molli� pellentesque \u0000el, curOus se� sapien.\n",
      "-uis quam nibh0 d�^tum ut dictum eget, �ltrices i� to�tor.�In �ac ha\u0006itass� platea dictumst� Mo%bi ,t l>o e�i�.\n",
      "AenZan ipsum ipsum, laoreet vel cursus a� tincidunt ��trice� c\u001d",
      "g�e.\n",
      "A�iquam acCerat��get�nunc lacin�a imperd�et veG id1nul�\"\u0001\n"
     ]
    }
   ],
   "source": [
    "# Fuzz Testing\n",
    "# ------------\n",
    "# Write a random fuzzer, based on Charlie Miller's example\n",
    "# from Problem Set 4, for a text viewer application.\n",
    "#\n",
    "# For multiple iterations, the procedure, fuzzit, should take in the content\n",
    "# of a text file, pass the content into a byte array, randomly modify bytes\n",
    "# of the \"file\", and add the resulting byte array (as a String) to a list. \n",
    "# The return value of the fuzzit procedure should be a list of \n",
    "# byte-modified strings.\n",
    "\n",
    "content = \"\"\"\n",
    "Lorem ipsum dolor sit amet, consectetur adipiscing elit.\n",
    "Phasellus sollicitudin condimentum libero,\n",
    "sit amet ultrices lacus faucibus nec.\n",
    "Lorem ipsum dolor sit amet, consectetur adipiscing elit.\n",
    "Cum sociis natoque penatibus et magnis dis parturient montes,\n",
    "nascetur ridiculus mus. Cras nulla nisi, accumsan gravida commodo et,\n",
    "venenatis dignissim quam. Mauris rutrum ullamcorper consectetur.\n",
    "Nunc luctus dui eu libero fringilla tempor. Integer vitae libero purus.\n",
    "Fusce est dui, suscipit mollis pellentesque vel, cursus sed sapien.\n",
    "Duis quam nibh, dictum ut dictum eget, ultrices in tortor.\n",
    "In hac habitasse platea dictumst. Morbi et leo enim.\n",
    "Aenean ipsum ipsum, laoreet vel cursus a, tincidunt ultrices augue.\n",
    "Aliquam ac erat eget nunc lacinia imperdiet vel id nulla.\"\"\"\n",
    "\n",
    "import math\n",
    "import random\n",
    "\n",
    "def fuzzit(content):\n",
    "\n",
    "    FuzzFactor = 5\n",
    "    num_tests = 1000\n",
    "    fuzzed = []\n",
    "\n",
    "    for i in range(num_tests):\n",
    "        buf = bytearray(content)\n",
    "        \n",
    "        # start Charlie Miller code \n",
    "        numwrites = random.randrange(math.ceil(len(buf) / float(FuzzFactor))) + 1\n",
    "        for j in range(numwrites):\n",
    "            rbyte = random.randrange(256)\n",
    "            rn = random.randrange(len(buf))\n",
    "            buf[rn] = \"%c\" % (rbyte)\n",
    "        #end Charlie Miller code\n",
    "\n",
    "        fuzzed.append(str(buf))\n",
    "    \n",
    "    return fuzzed\n",
    "\n",
    "print fuzzit(content)[10]"
   ]
  },
  {
   "cell_type": "code",
   "execution_count": null,
   "metadata": {
    "collapsed": true
   },
   "outputs": [],
   "source": []
  }
 ],
 "metadata": {
  "kernelspec": {
   "display_name": "Python 2",
   "language": "python",
   "name": "python2"
  },
  "language_info": {
   "codemirror_mode": {
    "name": "ipython",
    "version": 2
   },
   "file_extension": ".py",
   "mimetype": "text/x-python",
   "name": "python",
   "nbconvert_exporter": "python",
   "pygments_lexer": "ipython2",
   "version": "2.7.13"
  }
 },
 "nbformat": 4,
 "nbformat_minor": 2
}
